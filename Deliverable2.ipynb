{
  "nbformat": 4,
  "nbformat_minor": 0,
  "metadata": {
    "colab": {
      "provenance": []
    },
    "kernelspec": {
      "name": "python3",
      "display_name": "Python 3"
    },
    "language_info": {
      "name": "python"
    }
  },
  "cells": [
    {
      "cell_type": "code",
      "execution_count": 30,
      "metadata": {
        "id": "5lUWiv-W7IGY"
      },
      "outputs": [],
      "source": [
        "import requests\n",
        "from bs4 import BeautifulSoup\n",
        "from sentence_transformers import SentenceTransformer, util\n",
        "from transformers import pipeline\n",
        "\n",
        "def rate_url_validity(user_query: str, url: str) -> dict:\n",
        "    \"\"\"\n",
        "    Evaluates the validity of a given URL by computing various metrics including\n",
        "    domain trust, content relevance, fact-checking, bias, and citation scores.\n",
        "\n",
        "    Args:\n",
        "        user_query (str): The user's original query.\n",
        "        url (str): The URL to analyze.\n",
        "\n",
        "    Returns:\n",
        "        dict: A dictionary containing scores for different validity aspects.\n",
        "    \"\"\"\n",
        "\n",
        "    # === Step 1: Fetch Page Content ===\n",
        "    try:\n",
        "        response = requests.get(url, timeout=10)\n",
        "        response.raise_for_status()\n",
        "        soup = BeautifulSoup(response.text, \"html.parser\")\n",
        "        page_text = \" \".join([p.text for p in soup.find_all(\"p\")])  # Extract paragraph text\n",
        "    except Exception as e:\n",
        "        return {\"error\": f\"Failed to fetch content: {str(e)}\"}\n",
        "\n",
        "    # === Step 2: Domain Authority Check (Moz API) ===\n",
        "    # Replace with actual Moz API call\n",
        "    domain_trust = 60  # Placeholder value (Scale: 0-100)\n",
        "\n",
        "    # === Step 3: Content Relevance (Semantic Similarity using Hugging Face) ===\n",
        "    model = SentenceTransformer('sentence-transformers/all-mpnet-base-v2')\n",
        "    similarity_score = util.pytorch_cos_sim(model.encode(user_query), model.encode(page_text)).item() * 100\n",
        "\n",
        "    # === Step 4: Fact-Checking (Google Fact Check API) ===\n",
        "    fact_check_score = check_facts(page_text)\n",
        "\n",
        "    # === Step 5: Bias Detection (NLP Sentiment Analysis) ===\n",
        "    sentiment_pipeline = pipeline(\"text-classification\", model=\"cardiffnlp/twitter-roberta-base-sentiment\")\n",
        "    sentiment_result = sentiment_pipeline(page_text[:512])[0]  # Process first 512 characters\n",
        "    bias_score = 100 if sentiment_result[\"label\"] == \"POSITIVE\" else 50 if sentiment_result[\"label\"] == \"NEUTRAL\" else 30\n",
        "\n",
        "    # === Step 6: Citation Check (Google Scholar via SerpAPI) ===\n",
        "    citation_count = check_google_scholar(url)\n",
        "    citation_score = min(citation_count * 10, 100)  # Normalize\n",
        "\n",
        "    # === Step 7: Compute Final Validity Score ===\n",
        "    final_score = (\n",
        "        (0.3 * domain_trust) +\n",
        "        (0.3 * similarity_score) +\n",
        "        (0.2 * fact_check_score) +\n",
        "        (0.1 * bias_score) +\n",
        "        (0.1 * citation_score)\n",
        "    )\n",
        "\n",
        "    return {\n",
        "        \"Domain Trust\": domain_trust,\n",
        "        \"Content Relevance\": similarity_score,\n",
        "        \"Fact-Check Score\": fact_check_score,\n",
        "        \"Bias Score\": bias_score,\n",
        "        \"Citation Score\": citation_score,\n",
        "        \"Final Validity Score\": final_score\n",
        "    }\n",
        "\n",
        "\n",
        "# === Helper Function: Fact-Checking via Google API ===\n",
        "def check_facts(text: str) -> int:\n",
        "    \"\"\"\n",
        "    Cross-checks text against Google Fact Check API.\n",
        "    Returns a score between 0-100 indicating factual reliability.\n",
        "    \"\"\"\n",
        "    api_url = f\"https://toolbox.google.com/factcheck/api/v1/claimsearch?query={text[:200]}\"\n",
        "    try:\n",
        "        response = requests.get(api_url)\n",
        "        data = response.json()\n",
        "        if \"claims\" in data and data[\"claims\"]:\n",
        "            return 80  # If found in fact-checking database\n",
        "        return 40  # No verification found\n",
        "    except:\n",
        "        return 50  # Default uncertainty score\n",
        "\n",
        "\n",
        "# === Helper Function: Citation Count via Google Scholar API ===\n",
        "def check_google_scholar(url: str) -> int:\n",
        "    \"\"\"\n",
        "    Checks Google Scholar citations using SerpAPI.\n",
        "    Returns the count of citations found.\n",
        "    \"\"\"\n",
        "    serpapi_key = \"9735974f2c546c69c95038cd54b395331343a029a96c6870708daabf463427b6\"\n",
        "    params = {\"q\": url, \"engine\": \"google_scholar\", \"api_key\": serpapi_key}\n",
        "    try:\n",
        "        response = requests.get(\"https://serpapi.com/search\", params=params)\n",
        "        data = response.json()\n",
        "        return len(data.get(\"organic_results\", []))\n",
        "    except:\n",
        "        return -1  # Assume no citations found"
      ]
    },
    {
      "cell_type": "code",
      "source": [
        "user_prompt = \"What is the weather report in jersey city in february 2025\"\n",
        "url_to_check = \"https://www.weather25.com/north-america/usa/new-jersey/jersey-city?page=month&month=February#google_vignette\"\n",
        "\n",
        "result = rate_url_validity(user_prompt, url_to_check)\n",
        "print(result)"
      ],
      "metadata": {
        "colab": {
          "base_uri": "https://localhost:8080/"
        },
        "id": "12h3T70k3ZXx",
        "outputId": "b5c9234f-ba54-4377-9d24-716c28eb0a6c"
      },
      "execution_count": 31,
      "outputs": [
        {
          "output_type": "stream",
          "name": "stderr",
          "text": [
            "Device set to use cpu\n"
          ]
        },
        {
          "output_type": "stream",
          "name": "stdout",
          "text": [
            "{'Domain Trust': 60, 'Content Relevance': 81.47368431091309, 'Fact-Check Score': 50, 'Bias Score': 30, 'Citation Score': 0, 'Final Validity Score': 55.442105293273926}\n"
          ]
        }
      ]
    },
    {
      "cell_type": "markdown",
      "source": [
        "15 samples"
      ],
      "metadata": {
        "id": "eUXrGWYE8r6T"
      }
    },
    {
      "cell_type": "code",
      "source": [
        "user_prompt = \"Tell something about the country India\"\n",
        "url_to_check = \"https://en.wikipedia.org/wiki/India\"\n",
        "\n",
        "result = rate_url_validity(user_prompt, url_to_check)\n",
        "print(result)"
      ],
      "metadata": {
        "colab": {
          "base_uri": "https://localhost:8080/"
        },
        "id": "HSErOcbS7DsW",
        "outputId": "f1aeb9e8-220d-4858-d3d8-fcbf437f1c76"
      },
      "execution_count": 10,
      "outputs": [
        {
          "output_type": "stream",
          "name": "stderr",
          "text": [
            "Device set to use cpu\n"
          ]
        },
        {
          "output_type": "stream",
          "name": "stdout",
          "text": [
            "{'Domain Trust': 60, 'Content Relevance': 74.01041984558105, 'Fact-Check Score': 50, 'Bias Score': 30, 'Citation Score': 0, 'Final Validity Score': 53.203125953674316}\n"
          ]
        }
      ]
    },
    {
      "cell_type": "code",
      "source": [
        "user_prompt = \"What is linear regression\"\n",
        "url_to_check = \"https://www.statisticssolutions.com/free-resources/directory-of-statistical-analyses/what-is-linear-regression/\"\n",
        "\n",
        "result = rate_url_validity(user_prompt, url_to_check)\n",
        "print(result)"
      ],
      "metadata": {
        "colab": {
          "base_uri": "https://localhost:8080/"
        },
        "id": "-Z4iBm8g7aZ1",
        "outputId": "f509f13e-0090-4ef9-d9ec-786a1a5132ac"
      },
      "execution_count": 11,
      "outputs": [
        {
          "output_type": "stream",
          "name": "stderr",
          "text": [
            "Device set to use cpu\n"
          ]
        },
        {
          "output_type": "stream",
          "name": "stdout",
          "text": [
            "{'Domain Trust': 60, 'Content Relevance': 52.85009145736694, 'Fact-Check Score': 50, 'Bias Score': 30, 'Citation Score': 0, 'Final Validity Score': 46.85502743721008}\n"
          ]
        }
      ]
    },
    {
      "cell_type": "code",
      "source": [
        "user_prompt = \"Importance of Data science\"\n",
        "url_to_check = \"https://mate.academy/usa/courses/data-analytics-us?utm_source=google&utm_medium=cpc&utm_campaign=GEO-US_DataAnalytics_SEA_MatchType-All_P-TCPA&utm_content=KW-DS_course&utm_term=kwd-64263479108_b_data%20science%20bootcamp_g&utm_ac_id=179-791-8507&utm_id=22211763589&utm_ad_group_id=177055082800&utm_ad_id=732173289761&utm_term_id=kwd-64263479108&gad_source=1&gclid=Cj0KCQiA_NC9BhCkARIsABSnSTZ8KLmVnqyWLQMfcgrP81DaGY66kTWvpwjRgI_OKXw_yjS5hrMtwnIaAkDBEALw_wcB\"\n",
        "\n",
        "result = rate_url_validity(user_prompt, url_to_check)\n",
        "print(result)"
      ],
      "metadata": {
        "colab": {
          "base_uri": "https://localhost:8080/"
        },
        "id": "KhxCn5_N7ai6",
        "outputId": "b7c7086f-65d7-4510-b44b-95aa8f0c977b"
      },
      "execution_count": 12,
      "outputs": [
        {
          "output_type": "stream",
          "name": "stderr",
          "text": [
            "Device set to use cpu\n"
          ]
        },
        {
          "output_type": "stream",
          "name": "stdout",
          "text": [
            "{'Domain Trust': 60, 'Content Relevance': 32.260629534721375, 'Fact-Check Score': 50, 'Bias Score': 30, 'Citation Score': 0, 'Final Validity Score': 40.67818886041641}\n"
          ]
        }
      ]
    },
    {
      "cell_type": "code",
      "source": [
        "user_prompt = \"best ways to become datascientist\"\n",
        "url_to_check = \"https://www.coursera.org/articles/what-is-a-data-scientist\"\n",
        "\n",
        "result = rate_url_validity(user_prompt, url_to_check)\n",
        "print(result)"
      ],
      "metadata": {
        "colab": {
          "base_uri": "https://localhost:8080/"
        },
        "id": "spnT6uJn7anz",
        "outputId": "d40b7d34-c92f-4c03-ac89-b6116c5aeaf0"
      },
      "execution_count": 13,
      "outputs": [
        {
          "output_type": "stream",
          "name": "stderr",
          "text": [
            "Device set to use cpu\n"
          ]
        },
        {
          "output_type": "stream",
          "name": "stdout",
          "text": [
            "{'Domain Trust': 60, 'Content Relevance': 65.76454639434814, 'Fact-Check Score': 50, 'Bias Score': 30, 'Citation Score': 0, 'Final Validity Score': 50.72936391830444}\n"
          ]
        }
      ]
    },
    {
      "cell_type": "code",
      "source": [
        "user_prompt = \"History of India\"\n",
        "url_to_check = \"https://en.wikipedia.org/wiki/History_of_India\"\n",
        "\n",
        "result = rate_url_validity(user_prompt, url_to_check)\n",
        "print(result)"
      ],
      "metadata": {
        "colab": {
          "base_uri": "https://localhost:8080/"
        },
        "id": "FQGjxvrV7asP",
        "outputId": "940756be-5e8c-46af-cb8d-d10f530dced3"
      },
      "execution_count": 14,
      "outputs": [
        {
          "output_type": "stream",
          "name": "stderr",
          "text": [
            "Device set to use cpu\n"
          ]
        },
        {
          "output_type": "stream",
          "name": "stdout",
          "text": [
            "{'Domain Trust': 60, 'Content Relevance': 65.13030529022217, 'Fact-Check Score': 50, 'Bias Score': 30, 'Citation Score': 0, 'Final Validity Score': 50.53909158706665}\n"
          ]
        }
      ]
    },
    {
      "cell_type": "code",
      "source": [
        "user_prompt = \"Most influencial novels of the year\"\n",
        "url_to_check = \"https://lithub.com/the-20-best-novels-of-the-decade/\"\n",
        "\n",
        "result = rate_url_validity(user_prompt, url_to_check)\n",
        "print(result)"
      ],
      "metadata": {
        "colab": {
          "base_uri": "https://localhost:8080/"
        },
        "id": "FsWUZAWf7blk",
        "outputId": "1b69f7d2-ec0c-4514-f542-63dbb3271863"
      },
      "execution_count": 16,
      "outputs": [
        {
          "output_type": "stream",
          "name": "stderr",
          "text": [
            "Device set to use cpu\n"
          ]
        },
        {
          "output_type": "stream",
          "name": "stdout",
          "text": [
            "{'Domain Trust': 60, 'Content Relevance': 66.85273051261902, 'Fact-Check Score': 50, 'Bias Score': 30, 'Citation Score': 0, 'Final Validity Score': 51.055819153785706}\n"
          ]
        }
      ]
    },
    {
      "cell_type": "code",
      "source": [
        "user_prompt = \"what is algorithms for datascience\"\n",
        "url_to_check = \"https://www.geeksforgeeks.org/machine-learning-algorithms/\"\n",
        "\n",
        "result = rate_url_validity(user_prompt, url_to_check)\n",
        "print(result)"
      ],
      "metadata": {
        "colab": {
          "base_uri": "https://localhost:8080/"
        },
        "id": "kRsVFCNO7bvL",
        "outputId": "0a5a8867-ffef-448a-9a23-257c31f37d4d"
      },
      "execution_count": 17,
      "outputs": [
        {
          "output_type": "stream",
          "name": "stderr",
          "text": [
            "Device set to use cpu\n"
          ]
        },
        {
          "output_type": "stream",
          "name": "stdout",
          "text": [
            "{'Domain Trust': 60, 'Content Relevance': 44.97482180595398, 'Fact-Check Score': 50, 'Bias Score': 30, 'Citation Score': 0, 'Final Validity Score': 44.492446541786194}\n"
          ]
        }
      ]
    },
    {
      "cell_type": "code",
      "source": [
        "user_prompt = \"What role do algorithms play in the field of data science?\"\n",
        "url_to_check = \"https://mentr-me.com/question/what-is-the-use-of-algorithms-in-data-science\"\n",
        "\n",
        "result = rate_url_validity(user_prompt, url_to_check)\n",
        "print(result)"
      ],
      "metadata": {
        "colab": {
          "base_uri": "https://localhost:8080/"
        },
        "id": "iwppawrK7b1-",
        "outputId": "4abc696b-7016-4625-a3ca-f0c85f29d5d8"
      },
      "execution_count": 18,
      "outputs": [
        {
          "output_type": "stream",
          "name": "stderr",
          "text": [
            "Device set to use cpu\n"
          ]
        },
        {
          "output_type": "stream",
          "name": "stdout",
          "text": [
            "{'Domain Trust': 60, 'Content Relevance': 71.55957818031311, 'Fact-Check Score': 50, 'Bias Score': 30, 'Citation Score': 0, 'Final Validity Score': 52.46787345409393}\n"
          ]
        }
      ]
    },
    {
      "cell_type": "code",
      "source": [
        "user_prompt = \"Which is the best stock to invest now?\"\n",
        "url_to_check = \"https://www.fool.com/investing/2025/02/15/3-no-brainer-growth-stocks-to-buy-with-100-right-n/\"\n",
        "result = rate_url_validity(user_prompt, url_to_check)\n",
        "print(result)"
      ],
      "metadata": {
        "colab": {
          "base_uri": "https://localhost:8080/"
        },
        "id": "rtWuRh1z7b78",
        "outputId": "0cf1ccc9-0b31-4141-cc2c-52f8a6a08b88"
      },
      "execution_count": 23,
      "outputs": [
        {
          "output_type": "stream",
          "name": "stderr",
          "text": [
            "Device set to use cpu\n"
          ]
        },
        {
          "output_type": "stream",
          "name": "stdout",
          "text": [
            "{'Domain Trust': 60, 'Content Relevance': 66.55580997467041, 'Fact-Check Score': 50, 'Bias Score': 30, 'Citation Score': 0, 'Final Validity Score': 50.96674299240112}\n"
          ]
        }
      ]
    },
    {
      "cell_type": "code",
      "source": [
        "user_prompt = \"what is the importance of python in data scince\"\n",
        "url_to_check = \"https://www.geeksforgeeks.org/python-for-data-science/\"\n",
        "\n",
        "result = rate_url_validity(user_prompt, url_to_check)\n",
        "print(result)"
      ],
      "metadata": {
        "colab": {
          "base_uri": "https://localhost:8080/"
        },
        "id": "FSM0F3zd7cCu",
        "outputId": "c0c6f5b2-c4f7-4c0e-df94-a24c305a7c15"
      },
      "execution_count": 24,
      "outputs": [
        {
          "output_type": "stream",
          "name": "stderr",
          "text": [
            "Device set to use cpu\n"
          ]
        },
        {
          "output_type": "stream",
          "name": "stdout",
          "text": [
            "{'Domain Trust': 60, 'Content Relevance': 80.01725673675537, 'Fact-Check Score': 50, 'Bias Score': 30, 'Citation Score': 0, 'Final Validity Score': 55.00517702102661}\n"
          ]
        }
      ]
    },
    {
      "cell_type": "code",
      "source": [
        "user_prompt = \"what are latest technologies in ai\"\n",
        "url_to_check = \"https://today.ucsd.edu/story/7-ai-powered-technologies-you-should-know-about\"\n",
        "result = rate_url_validity(user_prompt, url_to_check)\n",
        "print(result)"
      ],
      "metadata": {
        "colab": {
          "base_uri": "https://localhost:8080/"
        },
        "id": "__5WLJ5n7cJQ",
        "outputId": "1f335739-3cb2-4893-b53d-b321278b04e8"
      },
      "execution_count": 25,
      "outputs": [
        {
          "output_type": "stream",
          "name": "stderr",
          "text": [
            "Device set to use cpu\n"
          ]
        },
        {
          "output_type": "stream",
          "name": "stdout",
          "text": [
            "{'Domain Trust': 60, 'Content Relevance': 46.30809426307678, 'Fact-Check Score': 50, 'Bias Score': 30, 'Citation Score': 0, 'Final Validity Score': 44.892428278923035}\n"
          ]
        }
      ]
    },
    {
      "cell_type": "code",
      "source": [
        "user_prompt = \"What is linear regression\"\n",
        "url_to_check = \"https://www.statisticssolutions.com/free-resources/directory-of-statistical-analyses/what-is-linear-regression/\"\n",
        "\n",
        "result = rate_url_validity(user_prompt, url_to_check)\n",
        "print(result)"
      ],
      "metadata": {
        "id": "f4OlpVa77cQS"
      },
      "execution_count": null,
      "outputs": []
    },
    {
      "cell_type": "code",
      "source": [
        "user_prompt = \"how to invest in stocks\"\n",
        "url_to_check = \"https://www.thewealthyinvestor.net/newyorkseminar/?gad_source=1\"\n",
        "\n",
        "result = rate_url_validity(user_prompt, url_to_check)\n",
        "print(result)"
      ],
      "metadata": {
        "colab": {
          "base_uri": "https://localhost:8080/"
        },
        "id": "mxDULnam7cXC",
        "outputId": "964412ad-375b-4d5d-c845-a39946220651"
      },
      "execution_count": 26,
      "outputs": [
        {
          "output_type": "stream",
          "name": "stderr",
          "text": [
            "Device set to use cpu\n"
          ]
        },
        {
          "output_type": "stream",
          "name": "stdout",
          "text": [
            "{'Domain Trust': 60, 'Content Relevance': 34.29941534996033, 'Fact-Check Score': 50, 'Bias Score': 30, 'Citation Score': 0, 'Final Validity Score': 41.2898246049881}\n"
          ]
        }
      ]
    },
    {
      "cell_type": "code",
      "source": [
        "user_prompt = \"how to invest in crypto\"\n",
        "url_to_check = \"https://www.schwab.com/cryptocurrency\"\n",
        "result = rate_url_validity(user_prompt, url_to_check)\n",
        "print(result)"
      ],
      "metadata": {
        "colab": {
          "base_uri": "https://localhost:8080/"
        },
        "id": "pdML7SEJ7ceE",
        "outputId": "4aa8fad5-146d-41d4-a18c-58104aa0fdb5"
      },
      "execution_count": 28,
      "outputs": [
        {
          "output_type": "stream",
          "name": "stderr",
          "text": [
            "Device set to use cpu\n"
          ]
        },
        {
          "output_type": "stream",
          "name": "stdout",
          "text": [
            "{'Domain Trust': 60, 'Content Relevance': 5.450402945280075, 'Fact-Check Score': 50, 'Bias Score': 30, 'Citation Score': 0, 'Final Validity Score': 32.63512088358402}\n"
          ]
        }
      ]
    }
  ]
}